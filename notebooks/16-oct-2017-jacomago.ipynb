{
 "cells": [
  {
   "cell_type": "code",
   "execution_count": 33,
   "metadata": {},
   "outputs": [],
   "source": [
    "import pandas as pd\n",
    "import numpy as np\n",
    "import json\n",
    "from datetime import datetime\n",
    "strptime = datetime.strptime"
   ]
  },
  {
   "cell_type": "code",
   "execution_count": 34,
   "metadata": {},
   "outputs": [],
   "source": [
    "event_columns = [\"Date\", \"Competition\",\"Type\",\"Gymnast\", \"VT\",\"UB\",\"BB\",\"FX\",\"AA\" ]\n",
    "gymnast_columns = [\"Full Name\", \"Birthdate\",\"Nation\", \"Status\"]"
   ]
  },
  {
   "cell_type": "code",
   "execution_count": 35,
   "metadata": {},
   "outputs": [],
   "source": [
    "f = open(\"../data/raw/2017-10-14T16-34-08.json\", 'r')\n",
    "\n",
    "js = json.load(f)\n",
    "\n",
    "f.close()\n"
   ]
  },
  {
   "cell_type": "code",
   "execution_count": 36,
   "metadata": {},
   "outputs": [
    {
     "data": {
      "text/plain": [
       "{'Farah Boufadene': {'Birthdate': 'March 3, 1999',\n",
       "  'Events': {'2014 Results': [{'AA': '51.467',\n",
       "     'BB': '13.200',\n",
       "     'Competition': 'Elite Gym Massilia',\n",
       "     'Date': 'Nov 15-16',\n",
       "     'FX': '11.567',\n",
       "     'Type': 'AA',\n",
       "     'UB': '13.433',\n",
       "     'VT': '13.267'}],\n",
       "   '2015 Results': [{'AA': '51.965',\n",
       "     'BB': '12.633',\n",
       "     'Competition': 'World Championships',\n",
       "     'Date': 'Oct 23-Nov 1',\n",
       "     'FX': '12.933',\n",
       "     'Type': 'QF',\n",
       "     'UB': '12.633',\n",
       "     'VT': '13.766'},\n",
       "    {'AA': '——',\n",
       "     'BB': '12.967',\n",
       "     'Competition': 'All-Africa Games',\n",
       "     'Date': 'Sep 4-19',\n",
       "     'FX': '——',\n",
       "     'Type': 'EF',\n",
       "     'UB': '14.100',\n",
       "     'VT': '13.850*'},\n",
       "    {'AA': '39.367**',\n",
       "     'BB': '12.967',\n",
       "     'Competition': 'All-Africa Games',\n",
       "     'Date': 'Sep 4-19',\n",
       "     'FX': '——',\n",
       "     'Type': 'AA',\n",
       "     'UB': '12.500',\n",
       "     'VT': '13.900'}],\n",
       "   '2016 Results': [{'AA': '46.433',\n",
       "     'BB': '10.600',\n",
       "     'Competition': 'Olympic Games',\n",
       "     'Date': 'Aug 5-21',\n",
       "     'FX': '11.100',\n",
       "     'Type': 'QF',\n",
       "     'UB': '12.200',\n",
       "     'VT': '12.533'},\n",
       "    {'AA': '——',\n",
       "     'BB': '12.600',\n",
       "     'Competition': 'African Championships',\n",
       "     'Date': 'Mar 23-26',\n",
       "     'FX': '——',\n",
       "     'Type': 'AA',\n",
       "     'UB': '——',\n",
       "     'VT': '——'}]},\n",
       "  'Full Name': 'Farah Boufadene',\n",
       "  'Nation': 'Algeria, formerly France',\n",
       "  'Status': 'Active'}}"
      ]
     },
     "execution_count": 36,
     "metadata": {},
     "output_type": "execute_result"
    }
   ],
   "source": [
    "js[0]"
   ]
  },
  {
   "cell_type": "code",
   "execution_count": 37,
   "metadata": {},
   "outputs": [],
   "source": [
    "def get_gymnast_data(g, gymnast_columns):\n",
    "    gymnast_data = [list(g.values())[0][x] for x in gymnast_columns]\n",
    "    gymnast_time = gymnast_data[1]\n",
    "    if len(gymnast_time) == 4:\n",
    "        gymnast_data[1] = strptime(gymnast_time, '%Y')\n",
    "    else:\n",
    "        gymnast_data[1] = strptime(gymnast_time, '%B %d, %Y')\n",
    "    return gymnast_data"
   ]
  },
  {
   "cell_type": "code",
   "execution_count": 38,
   "metadata": {},
   "outputs": [],
   "source": [
    "def get_time(year, date):\n",
    "    return strptime(year + \" \" + date.split(\"-\")[0],\"%Y %b %d\")"
   ]
  },
  {
   "cell_type": "code",
   "execution_count": 39,
   "metadata": {},
   "outputs": [],
   "source": [
    "def get_event_data(year_number, event, name, event_columns):\n",
    "    time= get_time(year_number, event[\"Date\"])\n",
    "    return [time, \n",
    "            event[\"Competition\"],\n",
    "            event[\"Type\"],\n",
    "            name]+ [event[x] for x in event_columns[4:]]"
   ]
  },
  {
   "cell_type": "code",
   "execution_count": 40,
   "metadata": {},
   "outputs": [
    {
     "ename": "ValueError",
     "evalue": "time data 'null Mar 16' does not match format '%Y %b %d'",
     "output_type": "error",
     "traceback": [
      "\u001b[0;31m---------------------------------------------------------------------------\u001b[0m",
      "\u001b[0;31mValueError\u001b[0m                                Traceback (most recent call last)",
      "\u001b[0;32m<ipython-input-40-f13a51ab7e8d>\u001b[0m in \u001b[0;36m<module>\u001b[0;34m()\u001b[0m\n\u001b[1;32m      8\u001b[0m         \u001b[0myear_number\u001b[0m \u001b[0;34m=\u001b[0m \u001b[0myear\u001b[0m\u001b[0;34m.\u001b[0m\u001b[0msplit\u001b[0m\u001b[0;34m(\u001b[0m\u001b[0;34m' '\u001b[0m\u001b[0;34m)\u001b[0m\u001b[0;34m[\u001b[0m\u001b[0;36m0\u001b[0m\u001b[0;34m]\u001b[0m\u001b[0;34m\u001b[0m\u001b[0m\n\u001b[1;32m      9\u001b[0m         \u001b[0;32mfor\u001b[0m \u001b[0mevent\u001b[0m \u001b[0;32min\u001b[0m \u001b[0mevents_js\u001b[0m\u001b[0;34m[\u001b[0m\u001b[0myear\u001b[0m\u001b[0;34m]\u001b[0m\u001b[0;34m:\u001b[0m\u001b[0;34m\u001b[0m\u001b[0m\n\u001b[0;32m---> 10\u001b[0;31m             \u001b[0mevents\u001b[0m\u001b[0;34m.\u001b[0m\u001b[0mappend\u001b[0m\u001b[0;34m(\u001b[0m\u001b[0mget_event_data\u001b[0m\u001b[0;34m(\u001b[0m\u001b[0myear_number\u001b[0m\u001b[0;34m,\u001b[0m \u001b[0mevent\u001b[0m\u001b[0;34m,\u001b[0m \u001b[0mname\u001b[0m\u001b[0;34m,\u001b[0m \u001b[0mevent_columns\u001b[0m\u001b[0;34m)\u001b[0m\u001b[0;34m)\u001b[0m\u001b[0;34m\u001b[0m\u001b[0m\n\u001b[0m",
      "\u001b[0;32m<ipython-input-39-8ea6b96d91b6>\u001b[0m in \u001b[0;36mget_event_data\u001b[0;34m(year_number, event, name, event_columns)\u001b[0m\n\u001b[1;32m      1\u001b[0m \u001b[0;32mdef\u001b[0m \u001b[0mget_event_data\u001b[0m\u001b[0;34m(\u001b[0m\u001b[0myear_number\u001b[0m\u001b[0;34m,\u001b[0m \u001b[0mevent\u001b[0m\u001b[0;34m,\u001b[0m \u001b[0mname\u001b[0m\u001b[0;34m,\u001b[0m \u001b[0mevent_columns\u001b[0m\u001b[0;34m)\u001b[0m\u001b[0;34m:\u001b[0m\u001b[0;34m\u001b[0m\u001b[0m\n\u001b[0;32m----> 2\u001b[0;31m     \u001b[0mtime\u001b[0m\u001b[0;34m=\u001b[0m \u001b[0mget_time\u001b[0m\u001b[0;34m(\u001b[0m\u001b[0myear_number\u001b[0m\u001b[0;34m,\u001b[0m \u001b[0mevent\u001b[0m\u001b[0;34m[\u001b[0m\u001b[0;34m\"Date\"\u001b[0m\u001b[0;34m]\u001b[0m\u001b[0;34m)\u001b[0m\u001b[0;34m\u001b[0m\u001b[0m\n\u001b[0m\u001b[1;32m      3\u001b[0m     return [time, \n\u001b[1;32m      4\u001b[0m             \u001b[0mevent\u001b[0m\u001b[0;34m[\u001b[0m\u001b[0;34m\"Competition\"\u001b[0m\u001b[0;34m]\u001b[0m\u001b[0;34m,\u001b[0m\u001b[0;34m\u001b[0m\u001b[0m\n\u001b[1;32m      5\u001b[0m             \u001b[0mevent\u001b[0m\u001b[0;34m[\u001b[0m\u001b[0;34m\"Type\"\u001b[0m\u001b[0;34m]\u001b[0m\u001b[0;34m,\u001b[0m\u001b[0;34m\u001b[0m\u001b[0m\n",
      "\u001b[0;32m<ipython-input-38-ed3f8245da2c>\u001b[0m in \u001b[0;36mget_time\u001b[0;34m(year, date)\u001b[0m\n\u001b[1;32m      1\u001b[0m \u001b[0;32mdef\u001b[0m \u001b[0mget_time\u001b[0m\u001b[0;34m(\u001b[0m\u001b[0myear\u001b[0m\u001b[0;34m,\u001b[0m \u001b[0mdate\u001b[0m\u001b[0;34m)\u001b[0m\u001b[0;34m:\u001b[0m\u001b[0;34m\u001b[0m\u001b[0m\n\u001b[0;32m----> 2\u001b[0;31m     \u001b[0;32mreturn\u001b[0m \u001b[0mstrptime\u001b[0m\u001b[0;34m(\u001b[0m\u001b[0myear\u001b[0m \u001b[0;34m+\u001b[0m \u001b[0;34m\" \"\u001b[0m \u001b[0;34m+\u001b[0m \u001b[0mdate\u001b[0m\u001b[0;34m.\u001b[0m\u001b[0msplit\u001b[0m\u001b[0;34m(\u001b[0m\u001b[0;34m\"-\"\u001b[0m\u001b[0;34m)\u001b[0m\u001b[0;34m[\u001b[0m\u001b[0;36m0\u001b[0m\u001b[0;34m]\u001b[0m\u001b[0;34m,\u001b[0m\u001b[0;34m\"%Y %b %d\"\u001b[0m\u001b[0;34m)\u001b[0m\u001b[0;34m\u001b[0m\u001b[0m\n\u001b[0m",
      "\u001b[0;32m/usr/lib64/python3.6/_strptime.py\u001b[0m in \u001b[0;36m_strptime_datetime\u001b[0;34m(cls, data_string, format)\u001b[0m\n\u001b[1;32m    563\u001b[0m     \"\"\"Return a class cls instance based on the input string and the\n\u001b[1;32m    564\u001b[0m     format string.\"\"\"\n\u001b[0;32m--> 565\u001b[0;31m     \u001b[0mtt\u001b[0m\u001b[0;34m,\u001b[0m \u001b[0mfraction\u001b[0m \u001b[0;34m=\u001b[0m \u001b[0m_strptime\u001b[0m\u001b[0;34m(\u001b[0m\u001b[0mdata_string\u001b[0m\u001b[0;34m,\u001b[0m \u001b[0mformat\u001b[0m\u001b[0;34m)\u001b[0m\u001b[0;34m\u001b[0m\u001b[0m\n\u001b[0m\u001b[1;32m    566\u001b[0m     \u001b[0mtzname\u001b[0m\u001b[0;34m,\u001b[0m \u001b[0mgmtoff\u001b[0m \u001b[0;34m=\u001b[0m \u001b[0mtt\u001b[0m\u001b[0;34m[\u001b[0m\u001b[0;34m-\u001b[0m\u001b[0;36m2\u001b[0m\u001b[0;34m:\u001b[0m\u001b[0;34m]\u001b[0m\u001b[0;34m\u001b[0m\u001b[0m\n\u001b[1;32m    567\u001b[0m     \u001b[0margs\u001b[0m \u001b[0;34m=\u001b[0m \u001b[0mtt\u001b[0m\u001b[0;34m[\u001b[0m\u001b[0;34m:\u001b[0m\u001b[0;36m6\u001b[0m\u001b[0;34m]\u001b[0m \u001b[0;34m+\u001b[0m \u001b[0;34m(\u001b[0m\u001b[0mfraction\u001b[0m\u001b[0;34m,\u001b[0m\u001b[0;34m)\u001b[0m\u001b[0;34m\u001b[0m\u001b[0m\n",
      "\u001b[0;32m/usr/lib64/python3.6/_strptime.py\u001b[0m in \u001b[0;36m_strptime\u001b[0;34m(data_string, format)\u001b[0m\n\u001b[1;32m    360\u001b[0m     \u001b[0;32mif\u001b[0m \u001b[0;32mnot\u001b[0m \u001b[0mfound\u001b[0m\u001b[0;34m:\u001b[0m\u001b[0;34m\u001b[0m\u001b[0m\n\u001b[1;32m    361\u001b[0m         raise ValueError(\"time data %r does not match format %r\" %\n\u001b[0;32m--> 362\u001b[0;31m                          (data_string, format))\n\u001b[0m\u001b[1;32m    363\u001b[0m     \u001b[0;32mif\u001b[0m \u001b[0mlen\u001b[0m\u001b[0;34m(\u001b[0m\u001b[0mdata_string\u001b[0m\u001b[0;34m)\u001b[0m \u001b[0;34m!=\u001b[0m \u001b[0mfound\u001b[0m\u001b[0;34m.\u001b[0m\u001b[0mend\u001b[0m\u001b[0;34m(\u001b[0m\u001b[0;34m)\u001b[0m\u001b[0;34m:\u001b[0m\u001b[0;34m\u001b[0m\u001b[0m\n\u001b[1;32m    364\u001b[0m         raise ValueError(\"unconverted data remains: %s\" %\n",
      "\u001b[0;31mValueError\u001b[0m: time data 'null Mar 16' does not match format '%Y %b %d'"
     ]
    }
   ],
   "source": [
    "events = []\n",
    "gymnasts = []\n",
    "for g in js:\n",
    "    gymnasts.append(get_gymnast_data(g, gymnast_columns))\n",
    "    events_js=list(g.values())[0]['Events']\n",
    "    name = list(g.keys())[0]\n",
    "    for year in events_js.keys():\n",
    "        year_number = year.split(' ')[0]\n",
    "        for event in events_js[year]:\n",
    "            events.append(get_event_data(year_number, event, name, event_columns))"
   ]
  },
  {
   "cell_type": "code",
   "execution_count": 7,
   "metadata": {},
   "outputs": [
    {
     "data": {
      "text/plain": [
       "['2016 Aug 5-21',\n",
       " 'Olympic Games',\n",
       " 'QF',\n",
       " 'Farah Boufadene',\n",
       " '12.533',\n",
       " '12.200',\n",
       " '10.600',\n",
       " '11.100',\n",
       " '46.433']"
      ]
     },
     "execution_count": 7,
     "metadata": {},
     "output_type": "execute_result"
    }
   ],
   "source": [
    "events[0]"
   ]
  },
  {
   "cell_type": "code",
   "execution_count": 8,
   "metadata": {},
   "outputs": [],
   "source": [
    "df = pd.DataFrame(events, columns=event_columns)"
   ]
  },
  {
   "cell_type": "code",
   "execution_count": 9,
   "metadata": {},
   "outputs": [
    {
     "data": {
      "text/html": [
       "<div>\n",
       "<style>\n",
       "    .dataframe thead tr:only-child th {\n",
       "        text-align: right;\n",
       "    }\n",
       "\n",
       "    .dataframe thead th {\n",
       "        text-align: left;\n",
       "    }\n",
       "\n",
       "    .dataframe tbody tr th {\n",
       "        vertical-align: top;\n",
       "    }\n",
       "</style>\n",
       "<table border=\"1\" class=\"dataframe\">\n",
       "  <thead>\n",
       "    <tr style=\"text-align: right;\">\n",
       "      <th></th>\n",
       "      <th>Date</th>\n",
       "      <th>Competition</th>\n",
       "      <th>Type</th>\n",
       "      <th>Gymnast</th>\n",
       "      <th>VT</th>\n",
       "      <th>UB</th>\n",
       "      <th>BB</th>\n",
       "      <th>FX</th>\n",
       "      <th>AA</th>\n",
       "    </tr>\n",
       "  </thead>\n",
       "  <tbody>\n",
       "    <tr>\n",
       "      <th>0</th>\n",
       "      <td>2016 Aug 5-21</td>\n",
       "      <td>Olympic Games</td>\n",
       "      <td>QF</td>\n",
       "      <td>Farah Boufadene</td>\n",
       "      <td>12.533</td>\n",
       "      <td>12.200</td>\n",
       "      <td>10.600</td>\n",
       "      <td>11.100</td>\n",
       "      <td>46.433</td>\n",
       "    </tr>\n",
       "    <tr>\n",
       "      <th>1</th>\n",
       "      <td>2016 Mar 23-26</td>\n",
       "      <td>African Championships</td>\n",
       "      <td>AA</td>\n",
       "      <td>Farah Boufadene</td>\n",
       "      <td>——</td>\n",
       "      <td>——</td>\n",
       "      <td>12.600</td>\n",
       "      <td>——</td>\n",
       "      <td>——</td>\n",
       "    </tr>\n",
       "    <tr>\n",
       "      <th>2</th>\n",
       "      <td>2015 Oct 23-Nov 1</td>\n",
       "      <td>World Championships</td>\n",
       "      <td>QF</td>\n",
       "      <td>Farah Boufadene</td>\n",
       "      <td>13.766</td>\n",
       "      <td>12.633</td>\n",
       "      <td>12.633</td>\n",
       "      <td>12.933</td>\n",
       "      <td>51.965</td>\n",
       "    </tr>\n",
       "    <tr>\n",
       "      <th>3</th>\n",
       "      <td>2015 Sep 4-19</td>\n",
       "      <td>All-Africa Games</td>\n",
       "      <td>EF</td>\n",
       "      <td>Farah Boufadene</td>\n",
       "      <td>13.850*</td>\n",
       "      <td>14.100</td>\n",
       "      <td>12.967</td>\n",
       "      <td>——</td>\n",
       "      <td>——</td>\n",
       "    </tr>\n",
       "    <tr>\n",
       "      <th>4</th>\n",
       "      <td>2015 Sep 4-19</td>\n",
       "      <td>All-Africa Games</td>\n",
       "      <td>AA</td>\n",
       "      <td>Farah Boufadene</td>\n",
       "      <td>13.900</td>\n",
       "      <td>12.500</td>\n",
       "      <td>12.967</td>\n",
       "      <td>——</td>\n",
       "      <td>39.367**</td>\n",
       "    </tr>\n",
       "  </tbody>\n",
       "</table>\n",
       "</div>"
      ],
      "text/plain": [
       "                Date            Competition Type          Gymnast       VT  \\\n",
       "0      2016 Aug 5-21          Olympic Games   QF  Farah Boufadene   12.533   \n",
       "1     2016 Mar 23-26  African Championships   AA  Farah Boufadene       ——   \n",
       "2  2015 Oct 23-Nov 1    World Championships   QF  Farah Boufadene   13.766   \n",
       "3      2015 Sep 4-19       All-Africa Games   EF  Farah Boufadene  13.850*   \n",
       "4      2015 Sep 4-19       All-Africa Games   AA  Farah Boufadene   13.900   \n",
       "\n",
       "       UB      BB      FX        AA  \n",
       "0  12.200  10.600  11.100    46.433  \n",
       "1      ——  12.600      ——        ——  \n",
       "2  12.633  12.633  12.933    51.965  \n",
       "3  14.100  12.967      ——        ——  \n",
       "4  12.500  12.967      ——  39.367**  "
      ]
     },
     "execution_count": 9,
     "metadata": {},
     "output_type": "execute_result"
    }
   ],
   "source": [
    "df.head()"
   ]
  },
  {
   "cell_type": "code",
   "execution_count": 27,
   "metadata": {},
   "outputs": [
    {
     "data": {
      "text/plain": [
       "datetime.datetime(2001, 10, 17, 0, 0)"
      ]
     },
     "execution_count": 27,
     "metadata": {},
     "output_type": "execute_result"
    }
   ],
   "source": [
    "parser.parse(gymnasts[3][1])"
   ]
  },
  {
   "cell_type": "code",
   "execution_count": 28,
   "metadata": {},
   "outputs": [
    {
     "data": {
      "text/plain": [
       "[['Farah Boufadene',\n",
       "  datetime.datetime(1999, 3, 3, 0, 0),\n",
       "  'Algeria, formerly France',\n",
       "  'Active'],\n",
       " ['Houry A. Gebeshian',\n",
       "  datetime.datetime(1989, 7, 27, 0, 0),\n",
       "  'Armenia',\n",
       "  'Retired,\\xa0former NCAA (Iowa)'],\n",
       " ['Ayelen Tarabini',\n",
       "  datetime.datetime(1992, 6, 11, 0, 0),\n",
       "  'Argentina',\n",
       "  'Active'],\n",
       " ['Talia Folino', '2001', 'Australia', 'Active'],\n",
       " ['Ailen Valente', 'March 26, 1996', 'Argentina', 'Active'],\n",
       " ['Mariia Smirnova',\n",
       "  'October\\xa013, 1995',\n",
       "  'Azerbaijan, formerly Russia',\n",
       "  'Active'],\n",
       " ['Merlina Rocio Galera', 'January 9, 1987', 'Argentina', 'Active'],\n",
       " ['Maria Belen Stoffel', 'June 23, 1995', 'Argentina', 'Active'],\n",
       " ['Giulianna Pino Alcivar', 'September 12, 1997', 'Ecuador', 'Active'],\n",
       " ['Rosanna Maaria Ojala', 'December 27, 1994', 'Finland', 'Active']]"
      ]
     },
     "execution_count": 28,
     "metadata": {},
     "output_type": "execute_result"
    }
   ],
   "source": [
    "gymnasts[:10]"
   ]
  },
  {
   "cell_type": "code",
   "execution_count": null,
   "metadata": {},
   "outputs": [],
   "source": []
  }
 ],
 "metadata": {
  "kernelspec": {
   "display_name": "Python 3",
   "language": "python",
   "name": "python3"
  },
  "language_info": {
   "codemirror_mode": {
    "name": "ipython",
    "version": 3
   },
   "file_extension": ".py",
   "mimetype": "text/x-python",
   "name": "python",
   "nbconvert_exporter": "python",
   "pygments_lexer": "ipython3",
   "version": "3.6.2"
  }
 },
 "nbformat": 4,
 "nbformat_minor": 2
}
