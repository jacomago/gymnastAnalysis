{
 "cells": [
  {
   "cell_type": "code",
   "execution_count": 1,
   "metadata": {},
   "outputs": [],
   "source": [
    "import pandas as pd\n",
    "import numpy as np\n",
    "import json"
   ]
  },
  {
   "cell_type": "code",
   "execution_count": 18,
   "metadata": {},
   "outputs": [],
   "source": [
    "event_columns = [\"Date\", \"Competition\",\"Type\",\"Gymnast\", \"VT\",\"UB\",\"BB\",\"FX\",\"AA\" ]\n",
    "gymnast_columns = [\"Full Name\", \"Birthdate\",\"Nation\", \"Status\"]"
   ]
  },
  {
   "cell_type": "code",
   "execution_count": 19,
   "metadata": {},
   "outputs": [],
   "source": [
    "f = open(\"../data/raw/2017-10-14T16-34-08.json\", 'r')\n",
    "\n",
    "js = json.load(f)\n",
    "\n",
    "f.close()\n"
   ]
  },
  {
   "cell_type": "code",
   "execution_count": 20,
   "metadata": {},
   "outputs": [
    {
     "data": {
      "text/plain": [
       "{'Farah Boufadene': {'Birthdate': 'March 3, 1999',\n",
       "  'Events': {'2014 Results': [{'AA': '51.467',\n",
       "     'BB': '13.200',\n",
       "     'Competition': 'Elite Gym Massilia',\n",
       "     'Date': 'Nov 15-16',\n",
       "     'FX': '11.567',\n",
       "     'Type': 'AA',\n",
       "     'UB': '13.433',\n",
       "     'VT': '13.267'}],\n",
       "   '2015 Results': [{'AA': '51.965',\n",
       "     'BB': '12.633',\n",
       "     'Competition': 'World Championships',\n",
       "     'Date': 'Oct 23-Nov 1',\n",
       "     'FX': '12.933',\n",
       "     'Type': 'QF',\n",
       "     'UB': '12.633',\n",
       "     'VT': '13.766'},\n",
       "    {'AA': '——',\n",
       "     'BB': '12.967',\n",
       "     'Competition': 'All-Africa Games',\n",
       "     'Date': 'Sep 4-19',\n",
       "     'FX': '——',\n",
       "     'Type': 'EF',\n",
       "     'UB': '14.100',\n",
       "     'VT': '13.850*'},\n",
       "    {'AA': '39.367**',\n",
       "     'BB': '12.967',\n",
       "     'Competition': 'All-Africa Games',\n",
       "     'Date': 'Sep 4-19',\n",
       "     'FX': '——',\n",
       "     'Type': 'AA',\n",
       "     'UB': '12.500',\n",
       "     'VT': '13.900'}],\n",
       "   '2016 Results': [{'AA': '46.433',\n",
       "     'BB': '10.600',\n",
       "     'Competition': 'Olympic Games',\n",
       "     'Date': 'Aug 5-21',\n",
       "     'FX': '11.100',\n",
       "     'Type': 'QF',\n",
       "     'UB': '12.200',\n",
       "     'VT': '12.533'},\n",
       "    {'AA': '——',\n",
       "     'BB': '12.600',\n",
       "     'Competition': 'African Championships',\n",
       "     'Date': 'Mar 23-26',\n",
       "     'FX': '——',\n",
       "     'Type': 'AA',\n",
       "     'UB': '——',\n",
       "     'VT': '——'}]},\n",
       "  'Full Name': 'Farah Boufadene',\n",
       "  'Nation': 'Algeria, formerly France',\n",
       "  'Status': 'Active'}}"
      ]
     },
     "execution_count": 20,
     "metadata": {},
     "output_type": "execute_result"
    }
   ],
   "source": [
    "js[0]"
   ]
  },
  {
   "cell_type": "code",
   "execution_count": 30,
   "metadata": {},
   "outputs": [],
   "source": [
    "events = []\n",
    "gymnasts = []\n",
    "for g in js:\n",
    "    gymnast_data = [list(g.values())[0][x] for x in gymnast_columns]\n",
    "    gymnasts.append(gymnast_data)\n",
    "    events_js=list(g.values())[0]['Events']\n",
    "    name = list(g.keys())[0]\n",
    "    for year in events_js.keys():\n",
    "        year_number = year.split(' ')[0]\n",
    "        for event in events_js[year]:\n",
    "            events_data = [year_number+\" \" + event[\"Date\"], \n",
    "                           event[\"Competition\"],\n",
    "                           event[\"Type\"],name]+ [event[x] for x in event_columns[4:]]\n",
    "            events.append(events_data)"
   ]
  },
  {
   "cell_type": "code",
   "execution_count": 31,
   "metadata": {},
   "outputs": [
    {
     "data": {
      "text/plain": [
       "['2016 Aug 5-21',\n",
       " 'Olympic Games',\n",
       " 'QF',\n",
       " 'Farah Boufadene',\n",
       " '12.533',\n",
       " '12.200',\n",
       " '10.600',\n",
       " '11.100',\n",
       " '46.433']"
      ]
     },
     "execution_count": 31,
     "metadata": {},
     "output_type": "execute_result"
    }
   ],
   "source": [
    "events[0]"
   ]
  },
  {
   "cell_type": "code",
   "execution_count": 32,
   "metadata": {},
   "outputs": [],
   "source": [
    "df = pd.DataFrame(events, columns=event_columns)"
   ]
  },
  {
   "cell_type": "code",
   "execution_count": 35,
   "metadata": {},
   "outputs": [
    {
     "data": {
      "text/html": [
       "<div>\n",
       "<style>\n",
       "    .dataframe thead tr:only-child th {\n",
       "        text-align: right;\n",
       "    }\n",
       "\n",
       "    .dataframe thead th {\n",
       "        text-align: left;\n",
       "    }\n",
       "\n",
       "    .dataframe tbody tr th {\n",
       "        vertical-align: top;\n",
       "    }\n",
       "</style>\n",
       "<table border=\"1\" class=\"dataframe\">\n",
       "  <thead>\n",
       "    <tr style=\"text-align: right;\">\n",
       "      <th></th>\n",
       "      <th>Date</th>\n",
       "      <th>Competition</th>\n",
       "      <th>Type</th>\n",
       "      <th>Gymnast</th>\n",
       "      <th>VT</th>\n",
       "      <th>UB</th>\n",
       "      <th>BB</th>\n",
       "      <th>FX</th>\n",
       "      <th>AA</th>\n",
       "    </tr>\n",
       "  </thead>\n",
       "  <tbody>\n",
       "    <tr>\n",
       "      <th>0</th>\n",
       "      <td>2016 Aug 5-21</td>\n",
       "      <td>Olympic Games</td>\n",
       "      <td>QF</td>\n",
       "      <td>Farah Boufadene</td>\n",
       "      <td>12.533</td>\n",
       "      <td>12.200</td>\n",
       "      <td>10.600</td>\n",
       "      <td>11.100</td>\n",
       "      <td>46.433</td>\n",
       "    </tr>\n",
       "    <tr>\n",
       "      <th>1</th>\n",
       "      <td>2016 Mar 23-26</td>\n",
       "      <td>African Championships</td>\n",
       "      <td>AA</td>\n",
       "      <td>Farah Boufadene</td>\n",
       "      <td>——</td>\n",
       "      <td>——</td>\n",
       "      <td>12.600</td>\n",
       "      <td>——</td>\n",
       "      <td>——</td>\n",
       "    </tr>\n",
       "    <tr>\n",
       "      <th>2</th>\n",
       "      <td>2015 Oct 23-Nov 1</td>\n",
       "      <td>World Championships</td>\n",
       "      <td>QF</td>\n",
       "      <td>Farah Boufadene</td>\n",
       "      <td>13.766</td>\n",
       "      <td>12.633</td>\n",
       "      <td>12.633</td>\n",
       "      <td>12.933</td>\n",
       "      <td>51.965</td>\n",
       "    </tr>\n",
       "    <tr>\n",
       "      <th>3</th>\n",
       "      <td>2015 Sep 4-19</td>\n",
       "      <td>All-Africa Games</td>\n",
       "      <td>EF</td>\n",
       "      <td>Farah Boufadene</td>\n",
       "      <td>13.850*</td>\n",
       "      <td>14.100</td>\n",
       "      <td>12.967</td>\n",
       "      <td>——</td>\n",
       "      <td>——</td>\n",
       "    </tr>\n",
       "    <tr>\n",
       "      <th>4</th>\n",
       "      <td>2015 Sep 4-19</td>\n",
       "      <td>All-Africa Games</td>\n",
       "      <td>AA</td>\n",
       "      <td>Farah Boufadene</td>\n",
       "      <td>13.900</td>\n",
       "      <td>12.500</td>\n",
       "      <td>12.967</td>\n",
       "      <td>——</td>\n",
       "      <td>39.367**</td>\n",
       "    </tr>\n",
       "  </tbody>\n",
       "</table>\n",
       "</div>"
      ],
      "text/plain": [
       "                Date            Competition Type          Gymnast       VT  \\\n",
       "0      2016 Aug 5-21          Olympic Games   QF  Farah Boufadene   12.533   \n",
       "1     2016 Mar 23-26  African Championships   AA  Farah Boufadene       ——   \n",
       "2  2015 Oct 23-Nov 1    World Championships   QF  Farah Boufadene   13.766   \n",
       "3      2015 Sep 4-19       All-Africa Games   EF  Farah Boufadene  13.850*   \n",
       "4      2015 Sep 4-19       All-Africa Games   AA  Farah Boufadene   13.900   \n",
       "\n",
       "       UB      BB      FX        AA  \n",
       "0  12.200  10.600  11.100    46.433  \n",
       "1      ——  12.600      ——        ——  \n",
       "2  12.633  12.633  12.933    51.965  \n",
       "3  14.100  12.967      ——        ——  \n",
       "4  12.500  12.967      ——  39.367**  "
      ]
     },
     "execution_count": 35,
     "metadata": {},
     "output_type": "execute_result"
    }
   ],
   "source": [
    "df.head()"
   ]
  },
  {
   "cell_type": "code",
   "execution_count": 34,
   "metadata": {},
   "outputs": [
    {
     "data": {
      "text/plain": [
       "['Farah Boufadene', 'March 3, 1999', 'Algeria, formerly France', 'Active']"
      ]
     },
     "execution_count": 34,
     "metadata": {},
     "output_type": "execute_result"
    }
   ],
   "source": [
    "gymnasts[0]"
   ]
  },
  {
   "cell_type": "code",
   "execution_count": null,
   "metadata": {},
   "outputs": [],
   "source": []
  }
 ],
 "metadata": {
  "kernelspec": {
   "display_name": "Python 3",
   "language": "python",
   "name": "python3"
  },
  "language_info": {
   "codemirror_mode": {
    "name": "ipython",
    "version": 3
   },
   "file_extension": ".py",
   "mimetype": "text/x-python",
   "name": "python",
   "nbconvert_exporter": "python",
   "pygments_lexer": "ipython3",
   "version": "3.6.2"
  }
 },
 "nbformat": 4,
 "nbformat_minor": 2
}
